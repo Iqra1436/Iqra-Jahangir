{
 "cells": [
  {
   "cell_type": "code",
   "execution_count": 3,
   "metadata": {},
   "outputs": [
    {
     "name": "stdout",
     "output_type": "stream",
     "text": [
      "Enter Marks of English 90\n",
      "Enter Marks of Urdu 90\n",
      "Enter Marks of Math 100\n",
      "Enter Marks of Computer 90\n",
      "Enter Marks of Pak Studies 90\n",
      "92\n",
      "Your Grade is A + \n"
     ]
    }
   ],
   "source": [
    "English = int(input(\"Enter Marks of English \"))\n",
    "Urdu = int(input(\"Enter Marks of Urdu \"))\n",
    "Maths = int(input(\"Enter Marks of Math \"))\n",
    "Computer = int(input(\"Enter Marks of Computer \"))\n",
    "Pak_Studies = int(input(\"Enter Marks of Pak Studies \"))\n",
    "\n",
    "Marks_Obtained = English + Urdu + Maths + Computer + Pak_Studies\n",
    "Total_Marks = 500\n",
    "Percentage = int(Marks_Obtained / Total_Marks*100)\n",
    "\n",
    "print(Percentage)\n",
    "\n",
    "if Percentage >= 90 and Percentage <= 100:\n",
    "    print(\"Your Grade is A + \")\n",
    "elif Percentage >=80 and Percentage <= 90:\n",
    "    print(\"your Grade is A \")\n",
    "elif Percentage >=70 and Percentage <=80:\n",
    "    print(\"your Grade is B \")\n",
    "elif Percentage >=60 and Percentage <= 70:\n",
    "    print(\"your Grade is C\")\n",
    "elif Percentage >=50 and Percentage <= 60:\n",
    "    print(\"your Grade is D \")\n",
    "elif Percentage >=40 and Percentage <= 50:\n",
    "    print(\"your Grade is F \")\n",
    "elif Percentage >=0 and Percentage <= 40:\n",
    "    print(\" You are cleared\")\n",
    "else:\n",
    "    print(\"Enter Valid Percentage\")"
   ]
  },
  {
   "cell_type": "code",
   "execution_count": 6,
   "metadata": {},
   "outputs": [
    {
     "name": "stdout",
     "output_type": "stream",
     "text": [
      "Enter A Number 10\n",
      "You Enter an Even Number \n"
     ]
    }
   ],
   "source": [
    "Number = int(input(\"Enter A Number \"))\n",
    "if Number%2 == 0:\n",
    "    print(\"You Enter an Even Number \")\n",
    "else:\n",
    "    print(\"You Enter an Odd Number \")"
   ]
  },
  {
   "cell_type": "code",
   "execution_count": 8,
   "metadata": {},
   "outputs": [
    {
     "name": "stdout",
     "output_type": "stream",
     "text": [
      "The Lenght of the List is 10\n"
     ]
    }
   ],
   "source": [
    "arr = [1,2,3,4,5,6,7,8,9,10]\n",
    "print(\"The Lenght of the List is \"+ str(len(arr)))"
   ]
  },
  {
   "cell_type": "code",
   "execution_count": 9,
   "metadata": {},
   "outputs": [
    {
     "name": "stdout",
     "output_type": "stream",
     "text": [
      "Sum of List is 30\n"
     ]
    }
   ],
   "source": [
    "arr =[2,4,6,8,10]\n",
    "sum = 0\n",
    "\n",
    "for i in arr:\n",
    "    sum += i\n",
    "print(\"Sum of List is \" +str(sum))"
   ]
  },
  {
   "cell_type": "code",
   "execution_count": 10,
   "metadata": {},
   "outputs": [
    {
     "name": "stdout",
     "output_type": "stream",
     "text": [
      "Largest Number From a Numeric List is 100\n"
     ]
    }
   ],
   "source": [
    "arr =[10,20,30,40,50,100]\n",
    "print(\"Largest Number From a Numeric List is \" + str(max(arr)))"
   ]
  },
  {
   "cell_type": "code",
   "execution_count": 14,
   "metadata": {},
   "outputs": [
    {
     "name": "stdout",
     "output_type": "stream",
     "text": [
      "10\n",
      "20\n",
      "30\n",
      "40\n"
     ]
    }
   ],
   "source": [
    "arr = [10,20,30,40,50,90,100]\n",
    "for i in arr:\n",
    "    if i <= 40:\n",
    "        print(i)"
   ]
  }
 ],
 "metadata": {
  "kernelspec": {
   "display_name": "Python 3",
   "language": "python",
   "name": "python3"
  },
  "language_info": {
   "codemirror_mode": {
    "name": "ipython",
    "version": 3
   },
   "file_extension": ".py",
   "mimetype": "text/x-python",
   "name": "python",
   "nbconvert_exporter": "python",
   "pygments_lexer": "ipython3",
   "version": "3.7.4"
  }
 },
 "nbformat": 4,
 "nbformat_minor": 2
}
