{
 "cells": [
  {
   "cell_type": "code",
   "execution_count": 27,
   "metadata": {},
   "outputs": [
    {
     "name": "stdout",
     "output_type": "stream",
     "text": [
      "Iqra\n",
      "Jahangir\n",
      "21\n",
      "Karachi\n",
      "Intermediate\n",
      "After update Qualification  DAE in IT\n",
      "{'First_name': 'Iqra', 'Last_name,': 'Jahangir', 'Age': '21', 'City': 'Karachi'}\n"
     ]
    }
   ],
   "source": [
    "object = {\n",
    "    \"First_name\" : \"Iqra\",\n",
    "    \"Last_name,\" : \"Jahangir\",\n",
    "    \"Age\":\"21\",\n",
    "    \"City\" : \"Karachi\"\n",
    "}\n",
    "\n",
    "for obj in object.values():\n",
    "    print(obj)\n",
    "\n",
    "object.update({\"Qualification\":\"Intermediate\"})\n",
    "\n",
    "print(object[\"Qualification\"])\n",
    "\n",
    "object[\"Qualification\"] = \"DAE in IT\"\n",
    "print(\"After update Qualification \",object[\"Qualification\"])\n",
    "\n",
    "del object[\"Qualification\"]\n",
    "\n",
    "print(object)"
   ]
  },
  {
   "cell_type": "code",
   "execution_count": 24,
   "metadata": {},
   "outputs": [
    {
     "name": "stdout",
     "output_type": "stream",
     "text": [
      "Name  of Country is  Pakistan\n",
      "Name of City is :  Karachi\n",
      "Fact is :  Karachi is the City of Pakistan\n",
      "==================================================\n",
      "Name  of Country is  UAE\n",
      "Name of City is :  Dubai\n",
      "Fact is :  Dubai is a city of UAE\n",
      "==================================================\n",
      "Name  of Country is  Saudia_Arabia\n",
      "Name of City is :  Jaddah\n",
      "Fact is :  Jaddah is City of Sadia_Arabia\n",
      "==================================================\n"
     ]
    }
   ],
   "source": [
    "Country ={\n",
    "    \"Pakistan\" : {\n",
    "        \"City\" : \"Karachi\",\n",
    "        \"Fact\":\"Karachi is the City of Pakistan\"\n",
    "    },\n",
    "    \n",
    "    \"UAE\" :{\n",
    "      \"City\": \"Dubai\",\n",
    "        \"Fact\":\"Dubai is a city of UAE\" \n",
    "    },\n",
    "    \"Saudia_Arabia\":{\n",
    "          \"City\": \"Jaddah\",\n",
    "          \"Fact\":\"Jaddah is City of Sadia_Arabia\",\n",
    "    },\n",
    "}\n",
    "\n",
    "for Contries in Country.keys():\n",
    "    print(\"Name  of Country is \", Contries)\n",
    "    print(\"Name of City is : \" , Country[ Contries][\"City\"])\n",
    "    print(\"Fact is : \", Country[ Contries][\"Fact\"])\n",
    "    print(\"==================================================\")"
   ]
  },
  {
   "cell_type": "code",
   "execution_count": 6,
   "metadata": {},
   "outputs": [
    {
     "name": "stdout",
     "output_type": "stream",
     "text": [
      "Welcome To Movie Theater\n",
      "Enter the no. of Person : 4\n",
      "Enter The Age Of Person: 4\n",
      "Your Ticket is Free! Enjoy Your Movie\n",
      "Enter The Age Of Person: 10\n",
      "Your Ticket price will be 10$\n",
      "Enter The Age Of Person: 16\n",
      "Your Ticket price will be 15$\n",
      "Enter The Age Of Person: 12\n",
      "Your Ticket price will be 10$\n",
      "Total Amount =  35  $ Enjoy Your Movie\n"
     ]
    }
   ],
   "source": [
    "print(\"Welcome To Movie Theater\")\n",
    "persons = int(input(\"Enter the no. of Person : \"))\n",
    "\n",
    "total_price = 0\n",
    "\n",
    "for a in range(1,persons+1):\n",
    "    age = int(input(\"Enter The Age Of Person: \"))\n",
    "    if age <= 5:\n",
    "        print(\"Your Ticket is Free! Enjoy Your Movie\")\n",
    "    elif age <= 15:\n",
    "        print(\"Your Ticket price will be 10$\")\n",
    "        total_price +=10\n",
    "    else:\n",
    "        print(\"Your Ticket price will be 15$\")\n",
    "        total_price +=15\n",
    "\n",
    "print(\"Total Amount = \",total_price,\" $ Enjoy Your Movie\")"
   ]
  },
  {
   "cell_type": "code",
   "execution_count": 4,
   "metadata": {},
   "outputs": [
    {
     "name": "stdout",
     "output_type": "stream",
     "text": [
      "Enter The Book Title: Who is Who & What is What\n",
      "General Knowledge books is  Who is Who & What is What\n"
     ]
    }
   ],
   "source": [
    "def Favorite_Book(Book_Name):\n",
    "    print(\"General Knowledge books is \",Book_Name)\n",
    "    \n",
    "Title=input(\"Enter The Book Title: \")\n",
    "\n",
    "Favorite_Book(Title)"
   ]
  },
  {
   "cell_type": "code",
   "execution_count": 7,
   "metadata": {},
   "outputs": [
    {
     "name": "stdout",
     "output_type": "stream",
     "text": [
      "Guess the number between 1 to 30 : 12\n",
      "Your guess is too high\n",
      "Guess the number between 1 to 30 : 25\n",
      "Your guess is too high\n",
      "Guess the number between 1 to 30 : 20\n",
      "Your guess is too high\n",
      "You Loose\n",
      "Correct Number is  8\n"
     ]
    }
   ],
   "source": [
    "import random\n",
    "\n",
    "random_number = random.randrange(1,30)\n",
    "\n",
    "flag = False\n",
    "\n",
    "for i in range(1,4):\n",
    "    guess = int(input(\"Guess the number between 1 to 30 : \"))\n",
    "    if guess == random_number:\n",
    "        flag = True \n",
    "        break\n",
    "    elif guess < random_number:\n",
    "        print(\"Your guess is too low\")\n",
    "    else:\n",
    "        print(\"Your guess is too high\")\n",
    "        \n",
    "if flag:\n",
    "    print(\"Congratulation you Win!!\")\n",
    "else:\n",
    "    print(\"You Loose\")\n",
    "    print(\"Correct Number is \", random_number)"
   ]
  }
 ],
 "metadata": {
  "kernelspec": {
   "display_name": "Python 3",
   "language": "python",
   "name": "python3"
  },
  "language_info": {
   "codemirror_mode": {
    "name": "ipython",
    "version": 3
   },
   "file_extension": ".py",
   "mimetype": "text/x-python",
   "name": "python",
   "nbconvert_exporter": "python",
   "pygments_lexer": "ipython3",
   "version": "3.7.4"
  }
 },
 "nbformat": 4,
 "nbformat_minor": 2
}
