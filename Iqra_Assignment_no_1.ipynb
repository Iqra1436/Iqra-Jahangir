{
 "cells": [
  {
   "cell_type": "code",
   "execution_count": 3,
   "metadata": {},
   "outputs": [
    {
     "name": "stdout",
     "output_type": "stream",
     "text": [
      "\n",
      "            Twinkle, Twinkle, Little Star,\n",
      "                    How I Wonder What You Are!\n",
      "                        up Above The World So High,\n",
      "                        Like a Diamond In The Sky.\n",
      "            Twinkle, Twinkle, Little Star,\n",
      "                    How I  Wonder What You Are\n"
     ]
    }
   ],
   "source": [
    "Poem = \"\"\"\n",
    "            Twinkle, Twinkle, Little Star,\n",
    "                    How I Wonder What You Are!\n",
    "                        up Above The World So High,\n",
    "                        Like a Diamond In The Sky.\n",
    "            Twinkle, Twinkle, Little Star,\n",
    "                    How I  Wonder What You Are\"\"\"\n",
    "print(Poem)"
   ]
  },
  {
   "cell_type": "code",
   "execution_count": 8,
   "metadata": {},
   "outputs": [
    {
     "name": "stdout",
     "output_type": "stream",
     "text": [
      "python version is : 3.7.4 (default, Aug  9 2019, 18:34:13) [MSC v.1915 64 bit (AMD64)]\n"
     ]
    }
   ],
   "source": [
    "import sys\n",
    "version = sys.version\n",
    "print('python version is : ' + version)\n"
   ]
  },
  {
   "cell_type": "code",
   "execution_count": 17,
   "metadata": {},
   "outputs": [
    {
     "name": "stdout",
     "output_type": "stream",
     "text": [
      "2019-11-19 12:26:32.276427\n"
     ]
    }
   ],
   "source": [
    "import datetime\n",
    "\n",
    "Date = datetime.datetime.now()\n",
    "\n",
    "print(Date)"
   ]
  },
  {
   "cell_type": "code",
   "execution_count": 20,
   "metadata": {},
   "outputs": [
    {
     "name": "stdout",
     "output_type": "stream",
     "text": [
      "Enter Radius:5\n",
      "Radius of  5.0 is 78.53975\n"
     ]
    }
   ],
   "source": [
    "Radius = float(input('Enter Radius:'))\n",
    "Area = 3.14159 *(Radius**2)\n",
    "print ('Radius of  ' +str(Radius)+  ' is '+str(Area))"
   ]
  },
  {
   "cell_type": "code",
   "execution_count": 23,
   "metadata": {},
   "outputs": [
    {
     "name": "stdout",
     "output_type": "stream",
     "text": [
      "Enter your First Name Iqra\n",
      "Enter Your Last Name Jahangir\n",
      "Iqra Jahangir\n"
     ]
    }
   ],
   "source": [
    "First_Name = input('Enter your First Name ')\n",
    "Last_Name = input('Enter Your Last Name ')\n",
    "print(First_Name + ' ' + Last_Name)"
   ]
  },
  {
   "cell_type": "code",
   "execution_count": 25,
   "metadata": {},
   "outputs": [
    {
     "name": "stdout",
     "output_type": "stream",
     "text": [
      "Enter Your First Number 5\n",
      "Enter Your Last Number 5\n",
      "sum of 5 & 5 is 10\n"
     ]
    }
   ],
   "source": [
    "Number1 = int(input(\"Enter Your First Number \"))\n",
    "Number2 = int(input(\"Enter Your Last Number \"))\n",
    "sum = Number1 + Number2\n",
    "print(\"sum of \" + str(Number1) + \" & \" +str(Number2) +\" is \" + str (sum))"
   ]
  }
 ],
 "metadata": {
  "kernelspec": {
   "display_name": "Python 3",
   "language": "python",
   "name": "python3"
  },
  "language_info": {
   "codemirror_mode": {
    "name": "ipython",
    "version": 3
   },
   "file_extension": ".py",
   "mimetype": "text/x-python",
   "name": "python",
   "nbconvert_exporter": "python",
   "pygments_lexer": "ipython3",
   "version": "3.7.4"
  }
 },
 "nbformat": 4,
 "nbformat_minor": 2
}
