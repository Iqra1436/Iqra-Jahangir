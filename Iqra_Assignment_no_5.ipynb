{
 "cells": [
  {
   "cell_type": "code",
   "execution_count": 1,
   "metadata": {},
   "outputs": [
    {
     "name": "stdout",
     "output_type": "stream",
     "text": [
      "Enter a number to calculate the factorial :4\n",
      "24\n"
     ]
    }
   ],
   "source": [
    "def factorial(number):\n",
    "    if number == 0:\n",
    "        return 1\n",
    "    else:\n",
    "        return number * factorial (number-1)\n",
    "number=int(input(\"Enter a number to calculate the factorial :\"))\n",
    "print(factorial(number))"
   ]
  },
  {
   "cell_type": "code",
   "execution_count": 2,
   "metadata": {},
   "outputs": [
    {
     "name": "stdout",
     "output_type": "stream",
     "text": [
      "Enter a string value with lower and uppercase letters : IQra JaHanGIR\n",
      "Original String :  IQra JaHanGIR\n",
      "No. of Upper Case Characteristics :  7\n",
      "No. of Lower Case Characteristics :  5\n",
      "None\n"
     ]
    }
   ],
   "source": [
    "def string_test(s):\n",
    "    value={\"UPPER_CASE\":0, \"LOWER_CASE\":0}\n",
    "    \n",
    "    for c in s:\n",
    "        if c.isupper():\n",
    "            value[\"UPPER_CASE\"]+=1\n",
    "        elif c.islower():\n",
    "            value[\"LOWER_CASE\"]+=1\n",
    "        else:\n",
    "            pass\n",
    "    print (\"Original String : \", s)\n",
    "    print (\"No. of Upper Case Characteristics : \", value[\"UPPER_CASE\"])\n",
    "    print (\"No. of Lower Case Characteristics : \", value[\"LOWER_CASE\"])\n",
    "        \n",
    "print(string_test(s = input('Enter a string value with lower and uppercase letters : ')))"
   ]
  },
  {
   "cell_type": "code",
   "execution_count": 15,
   "metadata": {},
   "outputs": [
    {
     "name": "stdout",
     "output_type": "stream",
     "text": [
      "[2, 4, 6, 8, 10, 12]\n"
     ]
    }
   ],
   "source": [
    "def even_num(l):\n",
    "    even = []\n",
    "    for a in l:\n",
    "        if a % 2 == 0:\n",
    "            even.append(a)\n",
    "    return even\n",
    "print(even_num([1, 2, 3, 4, 5, 6, 7, 8, 9, 10, 11, 12]))"
   ]
  },
  {
   "cell_type": "code",
   "execution_count": 30,
   "metadata": {},
   "outputs": [
    {
     "name": "stdout",
     "output_type": "stream",
     "text": [
      "True\n"
     ]
    }
   ],
   "source": [
    "def is_palindrome(string):\n",
    "    left = 0\n",
    "    right = len(string) - 1\n",
    "    while right >= left:\n",
    "        if not string[left] == string[right]:\n",
    "            return False\n",
    "        else:\n",
    "            left += 1\n",
    "            right -= 1\n",
    "            return True\n",
    "print(is_palindrome('civic'))"
   ]
  },
  {
   "cell_type": "code",
   "execution_count": 35,
   "metadata": {},
   "outputs": [
    {
     "name": "stdout",
     "output_type": "stream",
     "text": [
      "Enter a number: 45\n",
      "45 is not a prime number\n",
      "3 times 15 is 45\n"
     ]
    }
   ],
   "source": [
    "num = int(input(\"Enter a number: \"))\n",
    "\n",
    "if num > 1:\n",
    "    for a in range(2,num):\n",
    "        if (num % a) == 0:\n",
    "            print(num, \"is not a prime number\")\n",
    "            print(a,\"times\",num//a,\"is\",num)\n",
    "            break\n",
    "    else:\n",
    "        print(num, \"is a prime number\")\n",
    "else:\n",
    "    print(num,\"is not a prime number\")"
   ]
  },
  {
   "cell_type": "code",
   "execution_count": 37,
   "metadata": {},
   "outputs": [
    {
     "name": "stdout",
     "output_type": "stream",
     "text": [
      "You Selected Almond\n",
      "You Selected pistachio\n",
      "You Selected cashew nuts\n"
     ]
    }
   ],
   "source": [
    "def shoping(*items):\n",
    "    for item in items:\n",
    "        print(\"You Selected\",item)\n",
    "        \n",
    "shoping('Almond','pistachio','cashew nuts')"
   ]
  }
 ],
 "metadata": {
  "kernelspec": {
   "display_name": "Python 3",
   "language": "python",
   "name": "python3"
  },
  "language_info": {
   "codemirror_mode": {
    "name": "ipython",
    "version": 3
   },
   "file_extension": ".py",
   "mimetype": "text/x-python",
   "name": "python",
   "nbconvert_exporter": "python",
   "pygments_lexer": "ipython3",
   "version": "3.7.4"
  }
 },
 "nbformat": 4,
 "nbformat_minor": 2
}
