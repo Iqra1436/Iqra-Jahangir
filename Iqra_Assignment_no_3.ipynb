{
 "cells": [
  {
   "cell_type": "code",
   "execution_count": 14,
   "metadata": {},
   "outputs": [
    {
     "name": "stdout",
     "output_type": "stream",
     "text": [
      "Enter Your First Number 10\n",
      "Enter Your Opreator +\n",
      "Enter Your second Number 40\n",
      "Addition of  10  +  40  =  50\n"
     ]
    }
   ],
   "source": [
    "Num1 = int(input(\"Enter Your First Number \"))\n",
    "Opreator = input(\"Enter Your Opreator \")\n",
    "Num2 = int(input(\"Enter Your second Number \"))\n",
    "\n",
    "if Opreator == '+':\n",
    "    result = Num1 + Num2\n",
    "    print(\"Addition of \",Num1,\" + \",Num2,\" = \", result)\n",
    "elif Opreator == '-':\n",
    "    result = Num1 - Num2\n",
    "    print(\"Subtraction of \",Num1,\" - \",Num2,\" = \", result)\n",
    "elif Opreator == '*':\n",
    "    result = Num1 * Num2\n",
    "    print(\"Multiplication of \",Num1,\" * \",Num2,\" = \", result)\n",
    "elif Opreator == '/':\n",
    "    result = Num1 / Num2\n",
    "    print(\"Division of \",Num1,\" / \",Num2,\" = \", result)\n",
    "elif Opreator == '**':\n",
    "    result = Num1 ** Num2\n",
    "    print(\"Power of \",Num1, \" = \", result)"
   ]
  },
  {
   "cell_type": "code",
   "execution_count": 1,
   "metadata": {},
   "outputs": [
    {
     "name": "stdout",
     "output_type": "stream",
     "text": [
      "10 is a numeric Value in List\n",
      "40 is a numeric Value in List\n",
      "30.5 is a numeric Value in List\n"
     ]
    }
   ],
   "source": [
    "arr = ['Iqra','Jahangir',10,40,True,30.5,'e','f']\n",
    "for i in arr:\n",
    "    if type(i) == int:\n",
    "        print(i,\"is a numeric Value in List\")\n",
    "    elif type(i) == float:\n",
    "        print(i,\"is a numeric Value in List\")"
   ]
  },
  {
   "cell_type": "code",
   "execution_count": 3,
   "metadata": {},
   "outputs": [
    {
     "name": "stdout",
     "output_type": "stream",
     "text": [
      "Enter Key Iqra\n",
      "Enter Value Jahangir\n",
      "{'Iqra': 'Jahangir'}\n"
     ]
    }
   ],
   "source": [
    "dictionary = {}\n",
    "keyinput = input(\"Enter Key \")\n",
    "valueinput = input(\"Enter Value \")\n",
    "dictionary.update({keyinput:valueinput})\n",
    "\n",
    "print(dictionary)"
   ]
  }
 ],
 "metadata": {
  "kernelspec": {
   "display_name": "Python 3",
   "language": "python",
   "name": "python3"
  },
  "language_info": {
   "codemirror_mode": {
    "name": "ipython",
    "version": 3
   },
   "file_extension": ".py",
   "mimetype": "text/x-python",
   "name": "python",
   "nbconvert_exporter": "python",
   "pygments_lexer": "ipython3",
   "version": "3.7.4"
  }
 },
 "nbformat": 4,
 "nbformat_minor": 2
}
